{
  "nbformat": 4,
  "nbformat_minor": 0,
  "metadata": {
    "colab": {
      "name": "Copy of Read Chapters 9 and 10- Immutable Objects and Mutable Objects",
      "private_outputs": true,
      "provenance": [],
      "collapsed_sections": [],
      "include_colab_link": true
    },
    "kernelspec": {
      "name": "python3",
      "display_name": "Python 3"
    }
  },
  "cells": [
    {
      "cell_type": "markdown",
      "metadata": {
        "id": "view-in-github",
        "colab_type": "text"
      },
      "source": [
        "<a href=\"https://colab.research.google.com/github/N8thanaelR/IT-121-Portal/blob/main/Copy_of_Read_Chapters_9_and_10_Immutable_Objects_and_Mutable_Objects.ipynb\" target=\"_parent\"><img src=\"https://colab.research.google.com/assets/colab-badge.svg\" alt=\"Open In Colab\"/></a>"
      ]
    },
    {
      "cell_type": "markdown",
      "metadata": {
        "id": "afDmO9-DSbiN"
      },
      "source": [
        "Read Chapters 9 & 10 of Think Java, 2nd Edition, answer questions 1 - 13 for Chapter 9, 1-16 for Chapter 10, and complete the two labs in a copy of this notebook.\n",
        "\n",
        "Chapter 9: https://learning.oreilly.com/library/view/think-java-2nd/9781492072492/ch09.html\n",
        "\n",
        "Chapter 10: https://learning.oreilly.com/library/view/think-java-2nd/9781492072492/ch10.html\n",
        "\n",
        "\n",
        "***Reminder: to edit a text block or a code block you can double click on it, or hover over it and press the pencil in the upper right hand corner.***\n",
        "\n",
        "**Please save frequently!** I don't want you to lose your work. When you first open this notebook, go to File > Save. The first time you do this it will tell you it is making a copy. Say yes that you want to save the changes to your copy. When you're done, save your notebook (File > Save) and then save a copy of your notebook to GitHub (File > Save to GitHub). Don't save to GitHub until you're done. Send me the link to your file in GitHub to complete this assignment.\n",
        "\n",
        "If you get stuck, ask on Slack!"
      ]
    },
    {
      "cell_type": "markdown",
      "metadata": {
        "id": "EbjkNL2oTYUl"
      },
      "source": [
        "# Questions"
      ]
    },
    {
      "cell_type": "markdown",
      "metadata": {
        "id": "d_HxyNeqTbUN"
      },
      "source": [
        "# Chapter 9 - Immutable Objects\n",
        "\n",
        "1. What is an object?\n",
        "\n",
        "A(1). a collection of data that provides a set of methods. \n",
        "\n",
        "2. What's an example of something that is not a Java object?\n",
        "\n",
        "A(2). int, double, char, boolean - theyre primitive \n",
        "\n",
        "3. Does a string directly store its data in memory or point to an area in memory like an array?\n",
        "\n",
        "A(3). no it stores a reference to it \n",
        "\n",
        "4. What does the == operator test when applied to a string, and why do we use the `.equal()` method to evaluate the equality of strings instead?\n",
        "\n",
        "A(4). it test wether the variables refer to the same object. \n",
        "\n",
        "5. What does the keyword **null** mean about an initialized variable and the object it references in Java?\n",
        "\n",
        "A(5). it means that the value is nothing - has no object. \n",
        "\n",
        "6. What is a `NullPointerException`?\n",
        "\n",
        "A(6). It's something that happens when youre trying to invoke a null method or null element - that right? I'm not to sure of it's purpose. \n",
        "\n",
        "7. What does the book mean when they say **strings are immutable**?  If that is the case, how do you use a string method such as `.toUpperCase()`?\n",
        "\n",
        "A(7).It means that the string method isnt changing the string. no method can. the method in the question would be invokved when wanting the string be in all upper case, not changing the string it's self to be upper case. It seems like a slight difference but important. \n",
        "\n",
        "8. What do the wrapper classes for primitive datatypes do?  What are some examples of useful methods they contain?\n",
        "\n",
        "A(8). I beleive wrapper classes allow for data types to be compares and converting into strings from integars. I think there is more to it than that but I'm not sure. Some examples of methods they contain are Double.parseDouble, and boolean in the same way. toString which is converting an intergar to a string. \n",
        "\n",
        "9. Explain what the code below will do (put your explanation in **A(9).**, or as comments in the code)"
      ]
    },
    {
      "cell_type": "code",
      "metadata": {
        "id": "YYLGtr7dXwJy"
      },
      "source": [
        "%%writefile Max.java\n",
        "import java.util.Arrays;\n",
        "public class Max {\n",
        "    public static void main(String[] args) {\n",
        "        if (args.length == 0) {\n",
        "            System.err.println(\"Usage: java Max <numbers>\");\n",
        "            return;\n",
        "        }\n",
        "\n",
        "        System.out.println(Arrays.toString(args));\n",
        "        \n",
        "        int max = Integer.MIN_VALUE;\n",
        "\n",
        "        for (String arg : args) {\n",
        "            int value = Integer.parseInt(arg);\n",
        "            if (value > max) {\n",
        "                max = value;\n",
        "            }\n",
        "        }\n",
        "        System.out.println(\"The max is \" + max);\n",
        "    }\n",
        "}"
      ],
      "execution_count": null,
      "outputs": []
    },
    {
      "cell_type": "code",
      "metadata": {
        "id": "p3khkwFZY0vi"
      },
      "source": [
        "!javac Max.java\n",
        "!java Max 1 -5 20 33 -51 9 7 333 125 5 4"
      ],
      "execution_count": null,
      "outputs": []
    },
    {
      "cell_type": "markdown",
      "metadata": {
        "id": "aUu8IwpFZEPL"
      },
      "source": [
        "A(9). This code will convert the itegars to string out put, and it will also give the max value? \n",
        "\n",
        "10.  What is the difference between an empty string and a null string?\n",
        "\n",
        "A(10). empty strings means there are no elements and null means there is no object.  That seems like it can get complicated to understand the difference - I guess you'd need to know the difference between and object and an element \n",
        "\n",
        "11.  What is `BigInteger` and what must you import in order to use it?\n",
        "\n",
        "A(11). BigInteger is a way for \"impossible\" or \"unlimited\" values to be available. To import it you have to use invoke a i think the class or is a method? java.math.BigInteger at the beggining of the program. and also using value of when definining variables right? \n",
        "\n",
        "12. How do you add two BigInteger variables together?  Do you think you can use == to find out if two BigIntegers are equal?\n",
        "\n",
        "A(12). to add them you have to use methods and to add them, you have to invoke add on one and pass the other one as an argument . Ex: \n",
        "BigInteger a = BigInteger.valueOf(17);\n",
        "BigInteger b = BigInteger.valueOf(1700000000);\n",
        "BigInteger c = a.add(b);\n",
        "\n",
        "13. What are the three essential steps of *encapsulation and generalization*?\n",
        "\n",
        "A(13). Write a few lines of code in main or another method, and test them.\n",
        "\n",
        "When they are working, wrap them in a new method and test again.\n",
        "\n",
        "If it’s appropriate, replace literal values with variables and parameters"
      ]
    },
    {
      "cell_type": "markdown",
      "metadata": {
        "id": "o-xrJbex3FHG"
      },
      "source": [
        "# Chapter 10 - Mutable Objects\n",
        "\n",
        "1. What are variables that belong to an object called?\n",
        "\n",
        "A(1). theyre called attributes and in some cases fields\n",
        "\n",
        "2. If you had created a new object of `SnowStorm`, that was in a variable `friday` and had attributes called `featOfSnow`, and `daysBeforeMelting`:\n",
        "\n",
        "```java\n",
        "\n",
        "Snowstorm friday = new Snowstorm(1, 3);\n",
        "\n",
        "```\n",
        "\n",
        "How would you put the value of `featOfSnow` into an  integer using **dot notation** (this concept is demo'ed in the book)\n",
        "\n",
        "A(2). I beleive it would be something along the lines of featOfSnow.blank. someting else? This concept seems a bit complex in terms of strings i , and the book example too i suppose \n",
        "\n",
        "3. You can pass objects as parameters.  We did this in the exercise for Chapter 9.  What was the name of the object we passed?\n",
        "\n",
        "A(3). was it max/ or intParse? I'm not sure I understand the question\n",
        "\n",
        "4. Why can passing objects as parameters be better than passing primitive datatypes?\n",
        "\n",
        "A(4). Its better because related values of resutls are put togehter, this makes code easier to read and less error prone. \n",
        "\n",
        "5. Assuming my import statement for the user-defined package `weekend` containing the class `SnowStorm` was `import weekend.Snowstorm;`, so that our code would read: \n",
        "\n",
        "```java\n",
        "import weekend.SnowStorm;\n",
        "\n",
        "... // Assume public class and main method.\n",
        "\n",
        "Snowstorm friday = new Snowstorm(1, 3);\n",
        "\n",
        "// Note that Snowstorm's vars are named featOfSnow, and daysBeforeMelting.\n",
        "```\n",
        "what would be the output of the command `System.out.println(friday);`?\n",
        "\n",
        "A(5). it would be 1 and 3 right? or whatever was within the ()'s. If im thinking right\n",
        "\n",
        "6. What does 'mutable' mean in the context of rectangles?\n",
        "\n",
        "A(6). It means that you can change the size or location of it without changing the value? as long as you define the attributes correctly? \n",
        "\n",
        "7. Why can modifying objects by passing them as objects to methods make debugging harder?\n",
        "\n",
        "A(7).This is because it is not always clear which method invocations modify their arguments - but im not im sure what this means\n",
        "\n",
        "8. Why is modifying objects using dot notation to access existing methods better than passing objects to new methods for modification?\n",
        "\n",
        "A(8). It's better becasue it's more consistent with the style of object-oriented programming.\n",
        "\n",
        "9. What happens if two variables refer to the same object?\n",
        "\n",
        "A(9). It because a matter of aliasing and this can potentially cause confusion for developer and deugging. \n",
        "\n",
        "10.  What is aliasing?\n",
        "\n",
        "A(10). It's what happens when mutiple values are being refered to an object. \n",
        "\n",
        "11. Take a look at a GNU Classpath implementation of a class called Point which extends the class Point2d.  This is professional java code.  How does it differ from your code?  http://developer.classpath.org/doc/java/awt/Point-source.html\n",
        "\n",
        "*Note: /** some text */ is a comment that will also generate documentation*\n",
        "\n",
        "A(11).\n",
        "\n",
        "12.  What does an object's class definition specify?\n",
        "\n",
        "A(12). It specifies the attributes and methods that it has.\n",
        "\n",
        "13.  What happens to an object's attributes when the object is destroyed?\n",
        "\n",
        "A(13). They disapear \n",
        "\n",
        "14.  What is garbage collection?\n",
        "\n",
        "A(14). This a method when the system automatically looks for stranded objects and deletes them - it allows for space for new objects you'l create \n",
        "\n",
        "15. What are the advantages of using mutable objects?  What are the advantages of using Immutable objects?\n",
        "\n",
        "A(15). Immutable: 1) an pass strings (and other immutable objects) to methods without worrying about their contents changing as a side-effect of the method. \n",
        "\n",
        "2) two strings that contain the same characters can be stored in memory only once. That can reduce the amount of memory the program uses and can speed it up.\n",
        "\n",
        "Mutable: 1)  more efficient to modify an existing object, rather than create a new one. \n",
        "\n",
        "2)some computations can be expressed more naturally using mutation.\n",
        "\n",
        "\n",
        "16. Why is using the StringBuilder class more efficient than concatenating strings together then storing them in the same self-referencing variable?\n",
        "\n",
        "A(16). It helps the program run more efficently and fast - strings are able to build togehter instead of being in one big file(s)\n"
      ]
    },
    {
      "cell_type": "markdown",
      "metadata": {
        "id": "RqSSCSyPcFYs"
      },
      "source": [
        "# Exercises\n",
        "\n",
        "Please complete Exercise 9-3 to apply your knowledge from Chapter 9,  Exercise 10-0 to apply your knowledge from Chapter 10.  **As always, ask if you have problems or get stuck.**\n",
        "\n",
        "*Exercise 9-3 has a very simple 1 line of code solution, but you will need to understand how to use BigIntegers and call their methods in order to solve it.*\n"
      ]
    },
    {
      "cell_type": "markdown",
      "metadata": {
        "id": "1-n1PUrJcF7T"
      },
      "source": [
        "# Exercise 9-3 (From the Book, but Significantly Changed)\n",
        "\n",
        "Many encryption algorithms depend on the ability to raise large integers to a power. The book shows a method that does this using `int`, which does not scale for larger numbers.\n",
        "\n",
        "Complete the code below, so that it solves this problem for BigIntegers. **The parameters should be one BigInteger followed by an int.  Your program will raise your BigInteger to the power of the int.**\n",
        "\n",
        "**Feel free to use `varnameOfBigInteger.pow();`.**  \n",
        "\n",
        "Instead of using Scanner, you should pass your numbers in via the command line, we will use arg to convert them to strings, and then into BigInt values, and into strings, then int values, respectively.\n",
        "\n",
        "*Note: I have set all of this up for you.  No need to figure it out on your own.  You actually only need to add one line to the method to complete this program.*\n"
      ]
    },
    {
      "cell_type": "code",
      "metadata": {
        "id": "w5brtazAdApW"
      },
      "source": [
        "%%writefile POWBigInt.java\n",
        "import java.math.BigInteger;\n",
        "import java.util.Arrays;\n",
        "\n",
        "public class POWBigInt {\n",
        "    public static void main(String [] args){\n",
        "        \n",
        "        String num = args[0];\n",
        "        BigInteger bigNum = new BigInteger(num);\n",
        "\n",
        "        String toThePowerOf = args[1];\n",
        "        int exponant = Integer.parseInt(toThePowerOf);\n",
        "\n",
        "        System.out.println(\"You ran this program with the command line values: \" + bigNum + \", \" + toThePowerOf );\n",
        "        \n",
        "        BigInteger xToTheN = pow(bigNum, exponant);\n",
        "\n",
        "        System.out.println(bigNum + \" to the power of \" + exponant + \" equals \" + xToTheN);\n",
        "  \n",
        "    }\n",
        "\n",
        "    public static BigInteger pow(BigInteger x, int n) {\n",
        "        // Use the BigInt pow method to return x ^ n in the variable result.\n",
        "        // Hint: you can do this in one line.\n",
        "      \n",
        "        return result;\n",
        "        \n",
        "    }\n",
        "}"
      ],
      "execution_count": null,
      "outputs": []
    },
    {
      "cell_type": "code",
      "metadata": {
        "id": "ByFF0et7gPN2"
      },
      "source": [
        "!javac POWBigInt.java\n",
        "!java POWBigInt 10000000004000000 6"
      ],
      "execution_count": null,
      "outputs": []
    },
    {
      "cell_type": "markdown",
      "metadata": {
        "id": "uPpeUyVM27ze"
      },
      "source": [
        "# Exercise 10 - 0 (Not From the Book)\n",
        "* Write a method that takes both a mutable and Immutable object as an argument and returns an Immutable object.\n",
        "\n",
        "* Call your method from the main method with suitable objects and set up a suitable variable to store its return value.\n",
        "\n",
        "*Note: This exercise should be relatively simple if you understand the vocabulary in the last few chapters and how to construct a method. If you find yourself getting confused, look up the vocab words in their chapters and read the sections that concern them.*\n",
        "\n",
        "**As always, feel free to ask me for help, examples, or quick definitions.**"
      ]
    },
    {
      "cell_type": "code",
      "metadata": {
        "id": "3RWh4xGs28Un"
      },
      "source": [
        "%%writefile PassingObjects.java\n",
        "// Put any imports you need here\n",
        "\n",
        "public class PassingObjects{\n",
        "    public static void main(String [] args) {\n",
        "        // Set up immutable object.\n",
        "        // Set up mutable object\n",
        "\n",
        "        // Pass your object to your method and store the return value in a variable\n",
        "        // For example, assuming my method was called myMethod and returned a String: \n",
        "        // String storeReturnValue = myMethod(object1, object2);\n",
        "    }\n",
        "\n",
        "    // Your method.\n",
        "    \n",
        "}"
      ],
      "execution_count": null,
      "outputs": []
    },
    {
      "cell_type": "code",
      "metadata": {
        "id": "p7ekDNP728zn"
      },
      "source": [
        "!javac PassingObjects.java\n",
        "!java PassingObjects"
      ],
      "execution_count": null,
      "outputs": []
    }
  ]
}